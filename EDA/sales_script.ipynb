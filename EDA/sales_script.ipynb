{
  "nbformat": 4,
  "nbformat_minor": 0,
  "metadata": {
    "colab": {
      "name": "sales script.ipynb",
      "provenance": [],
      "collapsed_sections": [],
      "machine_shape": "hm"
    },
    "kernelspec": {
      "name": "python3",
      "display_name": "Python 3"
    },
    "accelerator": "GPU"
  },
  "cells": [
    {
      "cell_type": "code",
      "metadata": {
        "id": "lPhMXpTBLDxC",
        "colab_type": "code",
        "colab": {}
      },
      "source": [
        "import pandas as pd\n",
        "import numpy as np \n",
        "import seaborn as sns\n",
        "import matplotlib.pyplot as plt\n",
        "import os"
      ],
      "execution_count": 0,
      "outputs": []
    },
    {
      "cell_type": "code",
      "metadata": {
        "id": "Ry-e6b1-OfoP",
        "colab_type": "code",
        "colab": {
          "base_uri": "https://localhost:8080/",
          "height": 34
        },
        "outputId": "85e99835-ccee-4042-9d8e-07f70b6293db"
      },
      "source": [
        "from google.colab import drive\n",
        "drive.mount('/content/drive')"
      ],
      "execution_count": 3,
      "outputs": [
        {
          "output_type": "stream",
          "text": [
            "Drive already mounted at /content/drive; to attempt to forcibly remount, call drive.mount(\"/content/drive\", force_remount=True).\n"
          ],
          "name": "stdout"
        }
      ]
    },
    {
      "cell_type": "code",
      "metadata": {
        "id": "tvQ7rxZJOgYf",
        "colab_type": "code",
        "colab": {
          "base_uri": "https://localhost:8080/",
          "height": 34
        },
        "outputId": "ba315447-21fc-46f7-ac99-e02b29a7e701"
      },
      "source": [
        "cd drive/My\\ Drive/DSF/Project/"
      ],
      "execution_count": 4,
      "outputs": [
        {
          "output_type": "stream",
          "text": [
            "/content/drive/My Drive/DSF/Project\n"
          ],
          "name": "stdout"
        }
      ]
    },
    {
      "cell_type": "code",
      "metadata": {
        "id": "jzgLEI1xOidR",
        "colab_type": "code",
        "colab": {
          "base_uri": "https://localhost:8080/",
          "height": 50
        },
        "outputId": "5ddb0b9f-f07c-461f-bd54-65a91efba880"
      },
      "source": [
        "ls"
      ],
      "execution_count": 5,
      "outputs": [
        {
          "output_type": "stream",
          "text": [
            " costello_ace_2015-2016.csv   File.txt\n",
            " costello_ace_2017-2018.csv  \u001b[0m\u001b[01;34m\"Retail Data Analysis - Data CSE519 Fall'19\"\u001b[0m/\n"
          ],
          "name": "stdout"
        }
      ]
    },
    {
      "cell_type": "code",
      "metadata": {
        "id": "hpdpzGFAOkMs",
        "colab_type": "code",
        "colab": {
          "base_uri": "https://localhost:8080/",
          "height": 50
        },
        "outputId": "e6951220-db5b-4f32-8269-131cf91b77b5"
      },
      "source": [
        "df = pd.read_csv(\"costello_ace_2015-2016.csv\", thousands=',', usecols=['Date','Item Description','Store Name','Net Sales Units','Gross Margin'])"
      ],
      "execution_count": 6,
      "outputs": [
        {
          "output_type": "stream",
          "text": [
            "/usr/local/lib/python3.6/dist-packages/IPython/core/interactiveshell.py:2718: DtypeWarning: Columns (9,12) have mixed types. Specify dtype option on import or set low_memory=False.\n",
            "  interactivity=interactivity, compiler=compiler, result=result)\n"
          ],
          "name": "stderr"
        }
      ]
    },
    {
      "cell_type": "code",
      "metadata": {
        "id": "gi9KbV3uOtI4",
        "colab_type": "code",
        "colab": {
          "base_uri": "https://localhost:8080/",
          "height": 50
        },
        "outputId": "52b0bd34-8535-4d17-d9cc-1a8a1611aebc"
      },
      "source": [
        "df1 = pd.read_csv(\"costello_ace_2017-2018.csv\", thousands=',', usecols=['Date','Item Description','Store Name','Net Sales Units','Gross Margin'])"
      ],
      "execution_count": 7,
      "outputs": [
        {
          "output_type": "stream",
          "text": [
            "/usr/local/lib/python3.6/dist-packages/IPython/core/interactiveshell.py:2718: DtypeWarning: Columns (9,12) have mixed types. Specify dtype option on import or set low_memory=False.\n",
            "  interactivity=interactivity, compiler=compiler, result=result)\n"
          ],
          "name": "stderr"
        }
      ]
    },
    {
      "cell_type": "code",
      "metadata": {
        "id": "ZVFjo6zaOvaM",
        "colab_type": "code",
        "colab": {}
      },
      "source": [
        "df = df.append(df1)"
      ],
      "execution_count": 0,
      "outputs": []
    },
    {
      "cell_type": "code",
      "metadata": {
        "id": "RF5VupE9Oxlc",
        "colab_type": "code",
        "colab": {
          "base_uri": "https://localhost:8080/",
          "height": 195
        },
        "outputId": "2473ace9-17be-4095-b2ad-65ac87092804"
      },
      "source": [
        "df.head()"
      ],
      "execution_count": 9,
      "outputs": [
        {
          "output_type": "execute_result",
          "data": {
            "text/html": [
              "<div>\n",
              "<style scoped>\n",
              "    .dataframe tbody tr th:only-of-type {\n",
              "        vertical-align: middle;\n",
              "    }\n",
              "\n",
              "    .dataframe tbody tr th {\n",
              "        vertical-align: top;\n",
              "    }\n",
              "\n",
              "    .dataframe thead th {\n",
              "        text-align: right;\n",
              "    }\n",
              "</style>\n",
              "<table border=\"1\" class=\"dataframe\">\n",
              "  <thead>\n",
              "    <tr style=\"text-align: right;\">\n",
              "      <th></th>\n",
              "      <th>Date</th>\n",
              "      <th>Store Name</th>\n",
              "      <th>Item Description</th>\n",
              "      <th>Net Sales Units</th>\n",
              "      <th>Gross Margin</th>\n",
              "    </tr>\n",
              "  </thead>\n",
              "  <tbody>\n",
              "    <tr>\n",
              "      <th>0</th>\n",
              "      <td>4/1/2015</td>\n",
              "      <td>15784 EI PAINT</td>\n",
              "      <td>REG SEL INT MATTE BS1 GL</td>\n",
              "      <td>3</td>\n",
              "      <td>37.68</td>\n",
              "    </tr>\n",
              "    <tr>\n",
              "      <th>1</th>\n",
              "      <td>4/1/2015</td>\n",
              "      <td>15784 EI PAINT</td>\n",
              "      <td>REG SEL INT MATTE BS2 GL</td>\n",
              "      <td>2</td>\n",
              "      <td>28.46</td>\n",
              "    </tr>\n",
              "    <tr>\n",
              "      <th>2</th>\n",
              "      <td>4/1/2015</td>\n",
              "      <td>12168 WEST ISLIP</td>\n",
              "      <td>BLADE CUTOFF 4.5X1/16MTL</td>\n",
              "      <td>4</td>\n",
              "      <td>8.48</td>\n",
              "    </tr>\n",
              "    <tr>\n",
              "      <th>3</th>\n",
              "      <td>4/1/2015</td>\n",
              "      <td>12168 WEST ISLIP</td>\n",
              "      <td>CUT WHL4-1/2X.045 MTL</td>\n",
              "      <td>8</td>\n",
              "      <td>17.56</td>\n",
              "    </tr>\n",
              "    <tr>\n",
              "      <th>4</th>\n",
              "      <td>4/1/2015</td>\n",
              "      <td>12168 WEST ISLIP</td>\n",
              "      <td>GLOVE LTHR PALM WRK 3PK</td>\n",
              "      <td>1</td>\n",
              "      <td>9.53</td>\n",
              "    </tr>\n",
              "  </tbody>\n",
              "</table>\n",
              "</div>"
            ],
            "text/plain": [
              "       Date        Store Name  ... Net Sales Units Gross Margin\n",
              "0  4/1/2015    15784 EI PAINT  ...               3        37.68\n",
              "1  4/1/2015    15784 EI PAINT  ...               2        28.46\n",
              "2  4/1/2015  12168 WEST ISLIP  ...               4         8.48\n",
              "3  4/1/2015  12168 WEST ISLIP  ...               8        17.56\n",
              "4  4/1/2015  12168 WEST ISLIP  ...               1         9.53\n",
              "\n",
              "[5 rows x 5 columns]"
            ]
          },
          "metadata": {
            "tags": []
          },
          "execution_count": 9
        }
      ]
    },
    {
      "cell_type": "code",
      "metadata": {
        "id": "puq9YxQ0bJAb",
        "colab_type": "code",
        "colab": {
          "base_uri": "https://localhost:8080/",
          "height": 50
        },
        "outputId": "29fef3e0-e191-44ab-f27f-7715f3fd8de4"
      },
      "source": [
        "df.Date.unique()"
      ],
      "execution_count": 10,
      "outputs": [
        {
          "output_type": "execute_result",
          "data": {
            "text/plain": [
              "array(['4/1/2015', '4/2/2015', '4/3/2015', ..., '9/28/2018', '9/29/2018',\n",
              "       '9/30/2018'], dtype=object)"
            ]
          },
          "metadata": {
            "tags": []
          },
          "execution_count": 10
        }
      ]
    },
    {
      "cell_type": "code",
      "metadata": {
        "id": "_Pf9MA5Hce1y",
        "colab_type": "code",
        "colab": {
          "base_uri": "https://localhost:8080/",
          "height": 34
        },
        "outputId": "127bcd1c-7d30-4d31-a245-7831f2b63d6b"
      },
      "source": [
        "df['Date'].isnull().sum()"
      ],
      "execution_count": 11,
      "outputs": [
        {
          "output_type": "execute_result",
          "data": {
            "text/plain": [
              "0"
            ]
          },
          "metadata": {
            "tags": []
          },
          "execution_count": 11
        }
      ]
    },
    {
      "cell_type": "code",
      "metadata": {
        "id": "e1YPGI0CT1KH",
        "colab_type": "code",
        "colab": {}
      },
      "source": [
        "df = df[df['Date']!='Date']\n",
        "df = df[df['Date']!='\\x1a']"
      ],
      "execution_count": 0,
      "outputs": []
    },
    {
      "cell_type": "code",
      "metadata": {
        "id": "qenmItSR0iI7",
        "colab_type": "code",
        "colab": {}
      },
      "source": [
        "df['Convt_Date'] = pd.to_datetime(df['Date'], errors='coerce')"
      ],
      "execution_count": 0,
      "outputs": []
    },
    {
      "cell_type": "code",
      "metadata": {
        "id": "sB-KOhU75IO_",
        "colab_type": "code",
        "colab": {
          "base_uri": "https://localhost:8080/",
          "height": 195
        },
        "outputId": "665b7175-1407-45a7-c2ca-41437324bb05"
      },
      "source": [
        "df.head()"
      ],
      "execution_count": 14,
      "outputs": [
        {
          "output_type": "execute_result",
          "data": {
            "text/html": [
              "<div>\n",
              "<style scoped>\n",
              "    .dataframe tbody tr th:only-of-type {\n",
              "        vertical-align: middle;\n",
              "    }\n",
              "\n",
              "    .dataframe tbody tr th {\n",
              "        vertical-align: top;\n",
              "    }\n",
              "\n",
              "    .dataframe thead th {\n",
              "        text-align: right;\n",
              "    }\n",
              "</style>\n",
              "<table border=\"1\" class=\"dataframe\">\n",
              "  <thead>\n",
              "    <tr style=\"text-align: right;\">\n",
              "      <th></th>\n",
              "      <th>Date</th>\n",
              "      <th>Store Name</th>\n",
              "      <th>Item Description</th>\n",
              "      <th>Net Sales Units</th>\n",
              "      <th>Gross Margin</th>\n",
              "      <th>Convt_Date</th>\n",
              "    </tr>\n",
              "  </thead>\n",
              "  <tbody>\n",
              "    <tr>\n",
              "      <th>0</th>\n",
              "      <td>4/1/2015</td>\n",
              "      <td>15784 EI PAINT</td>\n",
              "      <td>REG SEL INT MATTE BS1 GL</td>\n",
              "      <td>3</td>\n",
              "      <td>37.68</td>\n",
              "      <td>2015-04-01</td>\n",
              "    </tr>\n",
              "    <tr>\n",
              "      <th>1</th>\n",
              "      <td>4/1/2015</td>\n",
              "      <td>15784 EI PAINT</td>\n",
              "      <td>REG SEL INT MATTE BS2 GL</td>\n",
              "      <td>2</td>\n",
              "      <td>28.46</td>\n",
              "      <td>2015-04-01</td>\n",
              "    </tr>\n",
              "    <tr>\n",
              "      <th>2</th>\n",
              "      <td>4/1/2015</td>\n",
              "      <td>12168 WEST ISLIP</td>\n",
              "      <td>BLADE CUTOFF 4.5X1/16MTL</td>\n",
              "      <td>4</td>\n",
              "      <td>8.48</td>\n",
              "      <td>2015-04-01</td>\n",
              "    </tr>\n",
              "    <tr>\n",
              "      <th>3</th>\n",
              "      <td>4/1/2015</td>\n",
              "      <td>12168 WEST ISLIP</td>\n",
              "      <td>CUT WHL4-1/2X.045 MTL</td>\n",
              "      <td>8</td>\n",
              "      <td>17.56</td>\n",
              "      <td>2015-04-01</td>\n",
              "    </tr>\n",
              "    <tr>\n",
              "      <th>4</th>\n",
              "      <td>4/1/2015</td>\n",
              "      <td>12168 WEST ISLIP</td>\n",
              "      <td>GLOVE LTHR PALM WRK 3PK</td>\n",
              "      <td>1</td>\n",
              "      <td>9.53</td>\n",
              "      <td>2015-04-01</td>\n",
              "    </tr>\n",
              "  </tbody>\n",
              "</table>\n",
              "</div>"
            ],
            "text/plain": [
              "       Date        Store Name  ... Gross Margin Convt_Date\n",
              "0  4/1/2015    15784 EI PAINT  ...        37.68 2015-04-01\n",
              "1  4/1/2015    15784 EI PAINT  ...        28.46 2015-04-01\n",
              "2  4/1/2015  12168 WEST ISLIP  ...         8.48 2015-04-01\n",
              "3  4/1/2015  12168 WEST ISLIP  ...        17.56 2015-04-01\n",
              "4  4/1/2015  12168 WEST ISLIP  ...         9.53 2015-04-01\n",
              "\n",
              "[5 rows x 6 columns]"
            ]
          },
          "metadata": {
            "tags": []
          },
          "execution_count": 14
        }
      ]
    },
    {
      "cell_type": "code",
      "metadata": {
        "id": "BSkJAgTdUb4y",
        "colab_type": "code",
        "colab": {}
      },
      "source": [
        "df = df.loc[df['Convt_Date'] < pd.to_datetime('September 1, 2018')]"
      ],
      "execution_count": 0,
      "outputs": []
    },
    {
      "cell_type": "code",
      "metadata": {
        "id": "LRA8I5Fc5ifG",
        "colab_type": "code",
        "colab": {}
      },
      "source": [
        "df = df.loc[df['Convt_Date'] > pd.to_datetime('September 1, 2017')]"
      ],
      "execution_count": 0,
      "outputs": []
    },
    {
      "cell_type": "code",
      "metadata": {
        "id": "nbhNwhjI5m_K",
        "colab_type": "code",
        "colab": {
          "base_uri": "https://localhost:8080/",
          "height": 195
        },
        "outputId": "70d1b6c1-a397-40ce-b6df-d35f3cc2eb89"
      },
      "source": [
        "df.head()"
      ],
      "execution_count": 17,
      "outputs": [
        {
          "output_type": "execute_result",
          "data": {
            "text/html": [
              "<div>\n",
              "<style scoped>\n",
              "    .dataframe tbody tr th:only-of-type {\n",
              "        vertical-align: middle;\n",
              "    }\n",
              "\n",
              "    .dataframe tbody tr th {\n",
              "        vertical-align: top;\n",
              "    }\n",
              "\n",
              "    .dataframe thead th {\n",
              "        text-align: right;\n",
              "    }\n",
              "</style>\n",
              "<table border=\"1\" class=\"dataframe\">\n",
              "  <thead>\n",
              "    <tr style=\"text-align: right;\">\n",
              "      <th></th>\n",
              "      <th>Date</th>\n",
              "      <th>Store Name</th>\n",
              "      <th>Item Description</th>\n",
              "      <th>Net Sales Units</th>\n",
              "      <th>Gross Margin</th>\n",
              "      <th>Convt_Date</th>\n",
              "    </tr>\n",
              "  </thead>\n",
              "  <tbody>\n",
              "    <tr>\n",
              "      <th>887153</th>\n",
              "      <td>4/1/2018</td>\n",
              "      <td>14252 ISLAND PARK</td>\n",
              "      <td>POWER WASHER ELEC1600PSI</td>\n",
              "      <td>1</td>\n",
              "      <td>8.91</td>\n",
              "      <td>2018-04-01</td>\n",
              "    </tr>\n",
              "    <tr>\n",
              "      <th>887154</th>\n",
              "      <td>4/1/2018</td>\n",
              "      <td>15863 COPIAGUE</td>\n",
              "      <td>PANSY 6\" POT</td>\n",
              "      <td>5</td>\n",
              "      <td>17.72</td>\n",
              "      <td>2018-04-01</td>\n",
              "    </tr>\n",
              "    <tr>\n",
              "      <th>887155</th>\n",
              "      <td>4/1/2018</td>\n",
              "      <td>6910 FARMINGDALE</td>\n",
              "      <td>9.5BR /LED/3000K/800L/12</td>\n",
              "      <td>1</td>\n",
              "      <td>5.34</td>\n",
              "      <td>2018-04-01</td>\n",
              "    </tr>\n",
              "    <tr>\n",
              "      <th>887156</th>\n",
              "      <td>4/1/2018</td>\n",
              "      <td>15863 COPIAGUE</td>\n",
              "      <td>STATUARY-PRAYING ANGEL</td>\n",
              "      <td>1</td>\n",
              "      <td>11.74</td>\n",
              "      <td>2018-04-01</td>\n",
              "    </tr>\n",
              "    <tr>\n",
              "      <th>887157</th>\n",
              "      <td>4/1/2018</td>\n",
              "      <td>15863 COPIAGUE</td>\n",
              "      <td>7.75\" PANSY</td>\n",
              "      <td>1</td>\n",
              "      <td>5.99</td>\n",
              "      <td>2018-04-01</td>\n",
              "    </tr>\n",
              "  </tbody>\n",
              "</table>\n",
              "</div>"
            ],
            "text/plain": [
              "            Date         Store Name  ... Gross Margin Convt_Date\n",
              "887153  4/1/2018  14252 ISLAND PARK  ...         8.91 2018-04-01\n",
              "887154  4/1/2018     15863 COPIAGUE  ...        17.72 2018-04-01\n",
              "887155  4/1/2018   6910 FARMINGDALE  ...         5.34 2018-04-01\n",
              "887156  4/1/2018     15863 COPIAGUE  ...        11.74 2018-04-01\n",
              "887157  4/1/2018     15863 COPIAGUE  ...         5.99 2018-04-01\n",
              "\n",
              "[5 rows x 6 columns]"
            ]
          },
          "metadata": {
            "tags": []
          },
          "execution_count": 17
        }
      ]
    },
    {
      "cell_type": "code",
      "metadata": {
        "id": "mmEIXWGN7j57",
        "colab_type": "code",
        "colab": {}
      },
      "source": [
        "margin_df = df[['Convt_Date', 'Store Name', 'Item Description', 'Gross Margin']]"
      ],
      "execution_count": 0,
      "outputs": []
    },
    {
      "cell_type": "code",
      "metadata": {
        "id": "Y7kfl5kkAnPr",
        "colab_type": "code",
        "colab": {
          "base_uri": "https://localhost:8080/",
          "height": 118
        },
        "outputId": "43219c0b-e9a2-4a19-9fef-47ada887e7e2"
      },
      "source": [
        "margin_df['Gross Margin'] = pd.to_numeric(margin_df['Gross Margin'], errors='coerce')"
      ],
      "execution_count": 19,
      "outputs": [
        {
          "output_type": "stream",
          "text": [
            "/usr/local/lib/python3.6/dist-packages/ipykernel_launcher.py:1: SettingWithCopyWarning: \n",
            "A value is trying to be set on a copy of a slice from a DataFrame.\n",
            "Try using .loc[row_indexer,col_indexer] = value instead\n",
            "\n",
            "See the caveats in the documentation: http://pandas.pydata.org/pandas-docs/stable/user_guide/indexing.html#returning-a-view-versus-a-copy\n",
            "  \"\"\"Entry point for launching an IPython kernel.\n"
          ],
          "name": "stderr"
        }
      ]
    },
    {
      "cell_type": "code",
      "metadata": {
        "id": "TmjSOKSf8_pG",
        "colab_type": "code",
        "colab": {}
      },
      "source": [
        "margindf = margin_df.groupby('Store Name')['Gross Margin'].sum().sort_values(ascending=False).head(5)"
      ],
      "execution_count": 0,
      "outputs": []
    },
    {
      "cell_type": "code",
      "metadata": {
        "id": "ysiMkxxuIFbk",
        "colab_type": "code",
        "colab": {}
      },
      "source": [
        "margindf = margindf.append(margin_df.groupby('Store Name')['Gross Margin'].sum().sort_values(ascending=False).tail(5))"
      ],
      "execution_count": 0,
      "outputs": []
    },
    {
      "cell_type": "code",
      "metadata": {
        "id": "zF_k6ZfzEG5o",
        "colab_type": "code",
        "colab": {}
      },
      "source": [
        "margindf = margindf.to_frame().reset_index()"
      ],
      "execution_count": 0,
      "outputs": []
    },
    {
      "cell_type": "code",
      "metadata": {
        "id": "Ae5pnKqnEKhV",
        "colab_type": "code",
        "colab": {
          "base_uri": "https://localhost:8080/",
          "height": 343
        },
        "outputId": "61fd0db6-55e1-414f-8c59-480265d0d522"
      },
      "source": [
        "margindf"
      ],
      "execution_count": 53,
      "outputs": [
        {
          "output_type": "execute_result",
          "data": {
            "text/html": [
              "<div>\n",
              "<style scoped>\n",
              "    .dataframe tbody tr th:only-of-type {\n",
              "        vertical-align: middle;\n",
              "    }\n",
              "\n",
              "    .dataframe tbody tr th {\n",
              "        vertical-align: top;\n",
              "    }\n",
              "\n",
              "    .dataframe thead th {\n",
              "        text-align: right;\n",
              "    }\n",
              "</style>\n",
              "<table border=\"1\" class=\"dataframe\">\n",
              "  <thead>\n",
              "    <tr style=\"text-align: right;\">\n",
              "      <th></th>\n",
              "      <th>Store Name</th>\n",
              "      <th>Gross Margin</th>\n",
              "    </tr>\n",
              "  </thead>\n",
              "  <tbody>\n",
              "    <tr>\n",
              "      <th>0</th>\n",
              "      <td>14252 ISLAND PARK</td>\n",
              "      <td>3.975998e+06</td>\n",
              "    </tr>\n",
              "    <tr>\n",
              "      <th>1</th>\n",
              "      <td>11116 BELLMORE</td>\n",
              "      <td>3.097555e+06</td>\n",
              "    </tr>\n",
              "    <tr>\n",
              "      <th>2</th>\n",
              "      <td>16663 EDGEWATER</td>\n",
              "      <td>2.232298e+06</td>\n",
              "    </tr>\n",
              "    <tr>\n",
              "      <th>3</th>\n",
              "      <td>16661 PASADENA</td>\n",
              "      <td>1.979784e+06</td>\n",
              "    </tr>\n",
              "    <tr>\n",
              "      <th>4</th>\n",
              "      <td>14664 NORTH MASSAPEQUA</td>\n",
              "      <td>1.766832e+06</td>\n",
              "    </tr>\n",
              "    <tr>\n",
              "      <th>5</th>\n",
              "      <td>16791 STATEN ISLAND</td>\n",
              "      <td>5.229750e+05</td>\n",
              "    </tr>\n",
              "    <tr>\n",
              "      <th>6</th>\n",
              "      <td>16660 GLEN BURNIE</td>\n",
              "      <td>5.205781e+05</td>\n",
              "    </tr>\n",
              "    <tr>\n",
              "      <th>7</th>\n",
              "      <td>7504 GRAND BLVD</td>\n",
              "      <td>3.242270e+05</td>\n",
              "    </tr>\n",
              "    <tr>\n",
              "      <th>8</th>\n",
              "      <td>5144 DEER PARK AVE</td>\n",
              "      <td>3.192995e+05</td>\n",
              "    </tr>\n",
              "    <tr>\n",
              "      <th>9</th>\n",
              "      <td>13168 BOHEMIA WAREHOUSE</td>\n",
              "      <td>-1.136868e-13</td>\n",
              "    </tr>\n",
              "  </tbody>\n",
              "</table>\n",
              "</div>"
            ],
            "text/plain": [
              "                Store Name  Gross Margin\n",
              "0        14252 ISLAND PARK  3.975998e+06\n",
              "1           11116 BELLMORE  3.097555e+06\n",
              "2          16663 EDGEWATER  2.232298e+06\n",
              "3           16661 PASADENA  1.979784e+06\n",
              "4   14664 NORTH MASSAPEQUA  1.766832e+06\n",
              "5      16791 STATEN ISLAND  5.229750e+05\n",
              "6        16660 GLEN BURNIE  5.205781e+05\n",
              "7          7504 GRAND BLVD  3.242270e+05\n",
              "8       5144 DEER PARK AVE  3.192995e+05\n",
              "9  13168 BOHEMIA WAREHOUSE -1.136868e-13"
            ]
          },
          "metadata": {
            "tags": []
          },
          "execution_count": 53
        }
      ]
    },
    {
      "cell_type": "code",
      "metadata": {
        "id": "D0n8KihlCJWY",
        "colab_type": "code",
        "colab": {
          "base_uri": "https://localhost:8080/",
          "height": 452
        },
        "outputId": "859998d7-dfed-44a3-b960-6651d5b3f017"
      },
      "source": [
        "g = sns.barplot(x=margindf['Store Name'], y=margindf['Gross Margin'])\n",
        "g.set_xticklabels(g.get_xticklabels(), rotation=90)\n",
        "g.set_title('Store-wise Gross Margin for period Sept 1, 2017 to Sept 1, 2018')"
      ],
      "execution_count": 55,
      "outputs": [
        {
          "output_type": "execute_result",
          "data": {
            "text/plain": [
              "Text(0.5, 1.0, 'Store-wise Gross Margin for period Sept 1, 2017 to Sept 1, 2018')"
            ]
          },
          "metadata": {
            "tags": []
          },
          "execution_count": 55
        },
        {
          "output_type": "display_data",
          "data": {
            "image/png": "[encoded data removed]",
            "text/plain": [
              "<Figure size 432x288 with 1 Axes>"
            ]
          },
          "metadata": {
            "tags": []
          }
        }
      ]
    },
    {
      "cell_type": "code",
      "metadata": {
        "id": "p4ChJwS65tTO",
        "colab_type": "code",
        "colab": {}
      },
      "source": [
        "sales_df = df[['Convt_Date', 'Store Name', 'Item Description', 'Net Sales Units']]"
      ],
      "execution_count": 0,
      "outputs": []
    },
    {
      "cell_type": "code",
      "metadata": {
        "id": "gKK8C2qmKR1T",
        "colab_type": "code",
        "colab": {}
      },
      "source": [
        "sales_df['Net Sales Units'] = pd.to_numeric(sales_df['Net Sales Units'], errors='coerce')"
      ],
      "execution_count": 0,
      "outputs": []
    },
    {
      "cell_type": "code",
      "metadata": {
        "id": "s-8gd1HOCp0l",
        "colab_type": "code",
        "colab": {}
      },
      "source": [
        "# this part is still in progress:\n",
        "keep = sales_df.groupby(['Store Name','Item Description'])['Net Sales Units'].sum().head(2).index\n",
        "sales_df.loc[keep]"
      ],
      "execution_count": 0,
      "outputs": []
    },
    {
      "cell_type": "code",
      "metadata": {
        "id": "Wim7Hk5YOnmP",
        "colab_type": "code",
        "colab": {
          "base_uri": "https://localhost:8080/",
          "height": 890
        },
        "outputId": "0deff272-cb1a-4182-b5fa-7865931de4a8"
      },
      "source": [
        "salesdf.head(50)"
      ],
      "execution_count": 85,
      "outputs": [
        {
          "output_type": "execute_result",
          "data": {
            "text/plain": [
              "Store Name      Item Description                \n",
              "11116 BELLMORE  \"12\"\" Silicone-Tip Tongs\"             2.0\n",
              "                \"16\"\" Silicone-Tip Tongs\"             5.0\n",
              "                \"24\"\"A/C ANIM SANTA W/AC ADAPTR\"      3.0\n",
              "                \"3.9X9.8\"\"CLEAR GLASS HURRICANE\"      1.0\n",
              "                \"7.1\"\"HOLIDAY LIGHT LANTERN\"         22.0\n",
              "                \"Ash Tool for S, MX or MN EGGs\"       5.0\n",
              "                \"Flat Pizza & Baking Stone 14\"\"\"     14.0\n",
              "                \"Flat Pizza & Baking Stone 21\"\"\"      3.0\n",
              "                \"Folding Grill Extender XL, L\"        2.0\n",
              "                \"HAT\" FEDORA                          4.0\n",
              "                \"HAT\" FEDORA ASST                     1.0\n",
              "                \"HAT\" OUTBACK MD                      2.0\n",
              "                \"HAT\" OUTBACK SM                      2.0\n",
              "                \"HAT\" RAFFIA (ARD ASST)               3.0\n",
              "                \"HAT\" RESORT DESIGN                   1.0\n",
              "                \"HAT\" SURVIVOR                        2.0\n",
              "                \"HAT\" VOGUE MD                        1.0\n",
              "                \"HAT\" WESTERN RAFFIA                  2.0\n",
              "                \"HAT\"AUSSIE ASST                      3.0\n",
              "                \"HAT\"OUTBACK LG                       3.0\n",
              "                \"HAT\"OUTBACK XL                       2.0\n",
              "                \"PIZZA FLAT STONE 12\"\"\"               5.0\n",
              "                \"S\" Pull- brushed satin nickel        1.0\n",
              "                \"Tel-Tru Lg Dial Temp Gauge 2\"\"\"      4.0\n",
              "                #0 HARRIS STYLE CUT TIP              -1.0\n",
              "                #104 SPRING                           1.0\n",
              "                #1133 BAYON CLR 32CP                  2.0\n",
              "                #16 DECK MOP W/HANDLE                28.0\n",
              "                #20 SPRING                            1.0\n",
              "                #3 SMITH STYLE CUT TIP               -1.0\n",
              "                #300000947-WRTH HNGR GRN             12.0\n",
              "                #72 AUTO HOT WATER VENT               6.0\n",
              "                #8 WALLBOARD ANCH NYLON  100          4.0\n",
              "                #8 WALLBOARD ANCH ZINC   100          2.0\n",
              "                #93 BAYON CLR 15CP                    9.0\n",
              "                #94 SPRING                            1.0\n",
              "                $1 Coupon on Dropcloth               13.0\n",
              "                $1 off DEHUMIDFY DAMPRID              2.0\n",
              "                $1 off LYSOL                          3.0\n",
              "                $1 off SB BATH CLNR                   2.0\n",
              "                $10 OF $30                          101.0\n",
              "                $10 OFF $30 REG PRICE ITEMS           6.0\n",
              "                $10 OFF $40 OR MORE REG PR SUN       28.0\n",
              "                $10 OFF PURCH $50 OR MORE            53.0\n",
              "                $10 REWARDA                         -30.0\n",
              "                $10 REWARDB                         -31.0\n",
              "                $10 REWARDC                         -21.0\n",
              "                $10 REWARDD                         -26.0\n",
              "                $10 REWARDE                         -24.0\n",
              "                $10 REWARDF                         -37.0\n",
              "Name: Net Sales Units, dtype: float64"
            ]
          },
          "metadata": {
            "tags": []
          },
          "execution_count": 85
        }
      ]
    },
    {
      "cell_type": "code",
      "metadata": {
        "id": "r35LiyR5H8dK",
        "colab_type": "code",
        "colab": {}
      },
      "source": [
        "salesdf = salesdf.to_frame().reset_index()"
      ],
      "execution_count": 0,
      "outputs": []
    },
    {
      "cell_type": "code",
      "metadata": {
        "id": "LTjZUbQ-LGGc",
        "colab_type": "code",
        "colab": {
          "base_uri": "https://localhost:8080/",
          "height": 639
        },
        "outputId": "db2fa5e5-d79d-440d-b938-e1ab2f308a6f"
      },
      "source": [
        "salesdf.head(20)"
      ],
      "execution_count": 80,
      "outputs": [
        {
          "output_type": "execute_result",
          "data": {
            "text/html": [
              "<div>\n",
              "<style scoped>\n",
              "    .dataframe tbody tr th:only-of-type {\n",
              "        vertical-align: middle;\n",
              "    }\n",
              "\n",
              "    .dataframe tbody tr th {\n",
              "        vertical-align: top;\n",
              "    }\n",
              "\n",
              "    .dataframe thead th {\n",
              "        text-align: right;\n",
              "    }\n",
              "</style>\n",
              "<table border=\"1\" class=\"dataframe\">\n",
              "  <thead>\n",
              "    <tr style=\"text-align: right;\">\n",
              "      <th></th>\n",
              "      <th>Store Name</th>\n",
              "      <th>Item Description</th>\n",
              "      <th>Net Sales Units</th>\n",
              "    </tr>\n",
              "  </thead>\n",
              "  <tbody>\n",
              "    <tr>\n",
              "      <th>0</th>\n",
              "      <td>11116 BELLMORE</td>\n",
              "      <td>\"12\"\" Silicone-Tip Tongs\"</td>\n",
              "      <td>2.0</td>\n",
              "    </tr>\n",
              "    <tr>\n",
              "      <th>1</th>\n",
              "      <td>11116 BELLMORE</td>\n",
              "      <td>\"16\"\" Silicone-Tip Tongs\"</td>\n",
              "      <td>5.0</td>\n",
              "    </tr>\n",
              "    <tr>\n",
              "      <th>2</th>\n",
              "      <td>11116 BELLMORE</td>\n",
              "      <td>\"24\"\"A/C ANIM SANTA W/AC ADAPTR\"</td>\n",
              "      <td>3.0</td>\n",
              "    </tr>\n",
              "    <tr>\n",
              "      <th>3</th>\n",
              "      <td>11116 BELLMORE</td>\n",
              "      <td>\"3.9X9.8\"\"CLEAR GLASS HURRICANE\"</td>\n",
              "      <td>1.0</td>\n",
              "    </tr>\n",
              "    <tr>\n",
              "      <th>4</th>\n",
              "      <td>11116 BELLMORE</td>\n",
              "      <td>\"7.1\"\"HOLIDAY LIGHT LANTERN\"</td>\n",
              "      <td>22.0</td>\n",
              "    </tr>\n",
              "    <tr>\n",
              "      <th>5</th>\n",
              "      <td>11116 BELLMORE</td>\n",
              "      <td>\"Ash Tool for S, MX or MN EGGs\"</td>\n",
              "      <td>5.0</td>\n",
              "    </tr>\n",
              "    <tr>\n",
              "      <th>6</th>\n",
              "      <td>11116 BELLMORE</td>\n",
              "      <td>\"Flat Pizza &amp; Baking Stone 14\"\"\"</td>\n",
              "      <td>14.0</td>\n",
              "    </tr>\n",
              "    <tr>\n",
              "      <th>7</th>\n",
              "      <td>11116 BELLMORE</td>\n",
              "      <td>\"Flat Pizza &amp; Baking Stone 21\"\"\"</td>\n",
              "      <td>3.0</td>\n",
              "    </tr>\n",
              "    <tr>\n",
              "      <th>8</th>\n",
              "      <td>11116 BELLMORE</td>\n",
              "      <td>\"Folding Grill Extender XL, L\"</td>\n",
              "      <td>2.0</td>\n",
              "    </tr>\n",
              "    <tr>\n",
              "      <th>9</th>\n",
              "      <td>11116 BELLMORE</td>\n",
              "      <td>\"HAT\" FEDORA</td>\n",
              "      <td>4.0</td>\n",
              "    </tr>\n",
              "    <tr>\n",
              "      <th>10</th>\n",
              "      <td>11116 BELLMORE</td>\n",
              "      <td>\"HAT\" FEDORA ASST</td>\n",
              "      <td>1.0</td>\n",
              "    </tr>\n",
              "    <tr>\n",
              "      <th>11</th>\n",
              "      <td>11116 BELLMORE</td>\n",
              "      <td>\"HAT\" OUTBACK MD</td>\n",
              "      <td>2.0</td>\n",
              "    </tr>\n",
              "    <tr>\n",
              "      <th>12</th>\n",
              "      <td>11116 BELLMORE</td>\n",
              "      <td>\"HAT\" OUTBACK SM</td>\n",
              "      <td>2.0</td>\n",
              "    </tr>\n",
              "    <tr>\n",
              "      <th>13</th>\n",
              "      <td>11116 BELLMORE</td>\n",
              "      <td>\"HAT\" RAFFIA (ARD ASST)</td>\n",
              "      <td>3.0</td>\n",
              "    </tr>\n",
              "    <tr>\n",
              "      <th>14</th>\n",
              "      <td>11116 BELLMORE</td>\n",
              "      <td>\"HAT\" RESORT DESIGN</td>\n",
              "      <td>1.0</td>\n",
              "    </tr>\n",
              "    <tr>\n",
              "      <th>15</th>\n",
              "      <td>11116 BELLMORE</td>\n",
              "      <td>\"HAT\" SURVIVOR</td>\n",
              "      <td>2.0</td>\n",
              "    </tr>\n",
              "    <tr>\n",
              "      <th>16</th>\n",
              "      <td>11116 BELLMORE</td>\n",
              "      <td>\"HAT\" VOGUE MD</td>\n",
              "      <td>1.0</td>\n",
              "    </tr>\n",
              "    <tr>\n",
              "      <th>17</th>\n",
              "      <td>11116 BELLMORE</td>\n",
              "      <td>\"HAT\" WESTERN RAFFIA</td>\n",
              "      <td>2.0</td>\n",
              "    </tr>\n",
              "    <tr>\n",
              "      <th>18</th>\n",
              "      <td>11116 BELLMORE</td>\n",
              "      <td>\"HAT\"AUSSIE ASST</td>\n",
              "      <td>3.0</td>\n",
              "    </tr>\n",
              "    <tr>\n",
              "      <th>19</th>\n",
              "      <td>11116 BELLMORE</td>\n",
              "      <td>\"HAT\"OUTBACK LG</td>\n",
              "      <td>3.0</td>\n",
              "    </tr>\n",
              "  </tbody>\n",
              "</table>\n",
              "</div>"
            ],
            "text/plain": [
              "        Store Name                  Item Description  Net Sales Units\n",
              "0   11116 BELLMORE         \"12\"\" Silicone-Tip Tongs\"              2.0\n",
              "1   11116 BELLMORE         \"16\"\" Silicone-Tip Tongs\"              5.0\n",
              "2   11116 BELLMORE  \"24\"\"A/C ANIM SANTA W/AC ADAPTR\"              3.0\n",
              "3   11116 BELLMORE  \"3.9X9.8\"\"CLEAR GLASS HURRICANE\"              1.0\n",
              "4   11116 BELLMORE      \"7.1\"\"HOLIDAY LIGHT LANTERN\"             22.0\n",
              "5   11116 BELLMORE   \"Ash Tool for S, MX or MN EGGs\"              5.0\n",
              "6   11116 BELLMORE  \"Flat Pizza & Baking Stone 14\"\"\"             14.0\n",
              "7   11116 BELLMORE  \"Flat Pizza & Baking Stone 21\"\"\"              3.0\n",
              "8   11116 BELLMORE    \"Folding Grill Extender XL, L\"              2.0\n",
              "9   11116 BELLMORE                      \"HAT\" FEDORA              4.0\n",
              "10  11116 BELLMORE                 \"HAT\" FEDORA ASST              1.0\n",
              "11  11116 BELLMORE                  \"HAT\" OUTBACK MD              2.0\n",
              "12  11116 BELLMORE                  \"HAT\" OUTBACK SM              2.0\n",
              "13  11116 BELLMORE           \"HAT\" RAFFIA (ARD ASST)              3.0\n",
              "14  11116 BELLMORE               \"HAT\" RESORT DESIGN              1.0\n",
              "15  11116 BELLMORE                    \"HAT\" SURVIVOR              2.0\n",
              "16  11116 BELLMORE                    \"HAT\" VOGUE MD              1.0\n",
              "17  11116 BELLMORE              \"HAT\" WESTERN RAFFIA              2.0\n",
              "18  11116 BELLMORE                  \"HAT\"AUSSIE ASST              3.0\n",
              "19  11116 BELLMORE                   \"HAT\"OUTBACK LG              3.0"
            ]
          },
          "metadata": {
            "tags": []
          },
          "execution_count": 80
        }
      ]
    },
    {
      "cell_type": "code",
      "metadata": {
        "id": "j5TJL2rgLRBJ",
        "colab_type": "code",
        "colab": {}
      },
      "source": [
        ""
      ],
      "execution_count": 0,
      "outputs": []
    }
  ]
}