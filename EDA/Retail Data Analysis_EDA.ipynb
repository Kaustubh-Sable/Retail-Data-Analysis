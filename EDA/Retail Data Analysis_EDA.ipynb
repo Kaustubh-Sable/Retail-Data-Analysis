{
 "cells": [
  {
   "cell_type": "code",
   "execution_count": 1,
   "metadata": {},
   "outputs": [],
   "source": [
    "import pandas as pd\n",
    "import seaborn as sns"
   ]
  },
  {
   "cell_type": "code",
   "execution_count": 6,
   "metadata": {},
   "outputs": [],
   "source": [
    "df = pd.read_csv(\"/home/surabhi/Downloads/costello_ace_2017-2018.csv\")"
   ]
  },
  {
   "cell_type": "code",
   "execution_count": 7,
   "metadata": {},
   "outputs": [
    {
     "data": {
      "text/plain": [
       "Date                               0\n",
       "Transaction Time                   0\n",
       "Customer Number                    0\n",
       "Receipt Number                     0\n",
       "Store #                            0\n",
       "Store Name                         0\n",
       "Scanned UPC                     1834\n",
       "Item Number                        0\n",
       "Item Description                   0\n",
       "Net Sales Units                    0\n",
       "Net Sales                          0\n",
       "Cost                               0\n",
       "Gross Margin                       0\n",
       "Gross Margin %                 11875\n",
       "Department Code                    0\n",
       "Department Name                    0\n",
       "Class Code                      2927\n",
       "Class Name                         0\n",
       "Fineline Code                 131943\n",
       "Fineline Name                      0\n",
       "Item was Scanned                 288\n",
       "MIP Promo ID                  516534\n",
       "Promo/Discount                434353\n",
       "Dynamic Promo ID                   0\n",
       "Actual Price                       0\n",
       "Retail Price                       0\n",
       "Actual-Retail                      0\n",
       "Taxable                            0\n",
       "Tender Type                        0\n",
       "$ Off Retail                       0\n",
       "Zip Code                      172559\n",
       "Zip Plus-4                    213239\n",
       "Loyalty ID                    170327\n",
       "Clerk                              0\n",
       "Item Type                          0\n",
       "Line #                             0\n",
       "Line Item Transaction Type         0\n",
       "Pricing Source                  1039\n",
       "Return Code                   583874\n",
       "dtype: int64"
      ]
     },
     "execution_count": 7,
     "metadata": {},
     "output_type": "execute_result"
    }
   ],
   "source": [
    "df.isnull().sum()"
   ]
  },
  {
   "cell_type": "code",
   "execution_count": 54,
   "metadata": {},
   "outputs": [
    {
     "data": {
      "text/plain": [
       "dtype('O')"
      ]
     },
     "execution_count": 54,
     "metadata": {},
     "output_type": "execute_result"
    }
   ],
   "source": [
    "df['Department Name'].dtype"
   ]
  },
  {
   "cell_type": "code",
   "execution_count": 20,
   "metadata": {},
   "outputs": [],
   "source": [
    "new_df = df[['Receipt Number', 'Item Description', 'Net Sales Units']]"
   ]
  },
  {
   "cell_type": "code",
   "execution_count": 22,
   "metadata": {},
   "outputs": [
    {
     "name": "stderr",
     "output_type": "stream",
     "text": [
      "/home/surabhi/anaconda3/lib/python3.7/site-packages/ipykernel_launcher.py:1: SettingWithCopyWarning: \n",
      "A value is trying to be set on a copy of a slice from a DataFrame.\n",
      "Try using .loc[row_indexer,col_indexer] = value instead\n",
      "\n",
      "See the caveats in the documentation: http://pandas.pydata.org/pandas-docs/stable/indexing.html#indexing-view-versus-copy\n",
      "  \"\"\"Entry point for launching an IPython kernel.\n"
     ]
    }
   ],
   "source": [
    "new_df[\"Net Sales Units\"] = new_df[\"Net Sales Units\"].str.replace(\",\",\"\").astype(float)"
   ]
  },
  {
   "cell_type": "code",
   "execution_count": null,
   "metadata": {},
   "outputs": [],
   "source": [
    "df['Hour'] = pd.to_datetime(df['Transaction Time'], format='%H:%M:%S').dt.hour"
   ]
  },
  {
   "cell_type": "code",
   "execution_count": 164,
   "metadata": {},
   "outputs": [],
   "source": [
    "hour_df = pd.DataFrame(df['Transaction Time'])"
   ]
  },
  {
   "cell_type": "code",
   "execution_count": 165,
   "metadata": {},
   "outputs": [],
   "source": [
    "hour_df['Hour'] = pd.to_datetime(hour_df['Transaction Time'], format='%H:%M:%S').dt.hour"
   ]
  },
  {
   "cell_type": "code",
   "execution_count": 167,
   "metadata": {},
   "outputs": [
    {
     "data": {
      "text/plain": [
       "<matplotlib.axes._subplots.AxesSubplot at 0x7fca385fa198>"
      ]
     },
     "execution_count": 167,
     "metadata": {},
     "output_type": "execute_result"
    },
    {
     "data": {
      "image/png": "[encoded data removed]",
      "text/plain": [
       "<Figure size 432x288 with 1 Axes>"
      ]
     },
     "metadata": {
      "needs_background": "light"
     },
     "output_type": "display_data"
    }
   ],
   "source": [
    "sns.countplot(hour_df['Hour'])"
   ]
  },
  {
   "cell_type": "code",
   "execution_count": 341,
   "metadata": {},
   "outputs": [
    {
     "data": {
      "text/plain": [
       "[Text(0, 0, 'Manual Override'),\n",
       " Text(0, 0, 'Promotion'),\n",
       " Text(0, 0, 'Retail'),\n",
       " Text(0, 0, 'Category Price Plan'),\n",
       " Text(0, 0, 'No Charge'),\n",
       " Text(0, 0, 'Return Validation'),\n",
       " Text(0, 0, 'Quantity Break'),\n",
       " Text(0, 0, 'Loyalty'),\n",
       " Text(0, 0, 'Open Quote'),\n",
       " Text(0, 0, 'Multiple Selling Price'),\n",
       " Text(0, 0, '*'),\n",
       " Text(0, 0, 'Average Cost'),\n",
       " Text(0, 0, 'Replacement Cost')]"
      ]
     },
     "execution_count": 341,
     "metadata": {},
     "output_type": "execute_result"
    },
    {
     "data": {
      "image/png": "[encoded data removed]",
      "text/plain": [
       "<Figure size 432x288 with 1 Axes>"
      ]
     },
     "metadata": {
      "needs_background": "light"
     },
     "output_type": "display_data"
    }
   ],
   "source": [
    "g = sns.countplot(df['Pricing Source'])\n",
    "g.set_xticklabels(g.get_xticklabels(),rotation=90)"
   ]
  },
  {
   "cell_type": "code",
   "execution_count": 201,
   "metadata": {},
   "outputs": [],
   "source": [
    "max_items = pd.DataFrame(df[['Receipt Number','Item Description']])"
   ]
  },
  {
   "cell_type": "code",
   "execution_count": 247,
   "metadata": {},
   "outputs": [],
   "source": [
    "max_items_groupby = max_items.groupby(['Receipt Number'])['Item Description'].unique()\n",
    "a=[]\n",
    "for i in range(len(max_items_groupby)):\n",
    "    a.append(len(max_items_groupby[i]))"
   ]
  },
  {
   "cell_type": "code",
   "execution_count": 255,
   "metadata": {},
   "outputs": [],
   "source": [
    "max_items_df = pd.DataFrame(a)"
   ]
  },
  {
   "cell_type": "code",
   "execution_count": 261,
   "metadata": {},
   "outputs": [],
   "source": [
    "import numpy as np"
   ]
  },
  {
   "cell_type": "code",
   "execution_count": 438,
   "metadata": {},
   "outputs": [
    {
     "data": {
      "image/png": "[encoded data removed]",
      "text/plain": [
       "<Figure size 1440x720 with 2 Axes>"
      ]
     },
     "metadata": {
      "needs_background": "light"
     },
     "output_type": "display_data"
    }
   ],
   "source": [
    "from scipy.stats import norm\n",
    "import matplotlib.pyplot as plt\n",
    "\n",
    "fig, ax = plt.subplots(2,1,figsize=(20,10))\n",
    "a = sns.countplot(max_items_df[0],ax = ax[0]);\n",
    "a.set(xlabel='Number of items in a basket', ylabel='Count')\n",
    "a.spines['right'].set_visible(False)\n",
    "a.spines['top'].set_visible(False)\n",
    "b = sns.countplot(max_items_df[0].sort_values(ascending=False).head(30),ax = ax[1]);\n",
    "b.set(xlabel='Number of items in a basket', ylabel='Count')\n",
    "b.spines['right'].set_visible(False)\n",
    "b.spines['top'].set_visible(False)"
   ]
  },
  {
   "cell_type": "code",
   "execution_count": 285,
   "metadata": {},
   "outputs": [
    {
     "data": {
      "text/plain": [
       "CMN Donations                      69373\n",
       "FASTENERS                          34288\n",
       "TOP SOIL 40#                        4280\n",
       "7287154 $20 INST SAVINGS            3007\n",
       "FERTILIZR 4STEP PRGM 5M             2888\n",
       "KEY KWIKSET KW1-ACE250PK            2817\n",
       "APRIL M1 $5 OFF $20                 2742\n",
       "KEY SCHLAGE SC1-ACE250PK            2045\n",
       "BIRDSEED WILDBIRD 20#ACE            2042\n",
       "MULCH  LI COLOR ENH BLK MULCH       2005\n",
       "CONTRACTOR BAGS 3MIL. 20CNT         1864\n",
       "LIBERTY GARDEN SEEDS-ASSORTED       1567\n",
       "JUMBO MKT PACK 804/806 FLWR/VEG     1553\n",
       "6187116 $3 INST SAVINGS             1506\n",
       "7301609 $3 INST SAVINGS             1385\n",
       "IN-STORE COUPON SAVE $5.00          1365\n",
       "$5 REWARDD                          1341\n",
       "7206436 $7 INST SAVINGS             1332\n",
       "APRIL M1 $5 OFF $25                 1315\n",
       "LIQUID ANT BAIT 6PK                 1313\n",
       "$5 REWARDB                          1289\n",
       "COSTELLO'S SUN & SHADE 3#           1245\n",
       "7439524 $1 INST SAVINGS             1241\n",
       "EZ SEED SUN&SHADE 10#               1239\n",
       "71162 $4 INST SAVINGS               1091\n",
       "POT SOIL MOIST CONT 2 CF            1072\n",
       "EASTER PLANTS-ASSORTED              1015\n",
       "SCREEN REPAIR                       1003\n",
       "APRIL M2 $5 OFF $20                  953\n",
       "CRABGRSS PRVNTR STEP1 5M             942\n",
       "                                   ...  \n",
       "HOOK MED COAT/HAT SILV                 1\n",
       "HOLDR T PAPER CHR DECKO                1\n",
       "DUCT TAPE GALAXY                       1\n",
       "BRUSHED SS FORMA SA MED HOOK           1\n",
       "EXO HI-VIZ UTILTY SFTY YELLW  M        1\n",
       "10\"POTHOS GOLDN ON PYRAMID             1\n",
       "PLS-R/B-4.9X10-ATTCK CAT               1\n",
       "1 1/2\"GRN & BLUE FLOWR KNOB            1\n",
       "ADAPTER1/2\"F X 3/8\"M ACE               1\n",
       "4OZ ESPRESSO CUP BON JOUR! S/4         1\n",
       "JUMBO SWAG HOOK ANTBRASS               1\n",
       "DEBRIS PAN JUMBO                       1\n",
       "SPONGE SEA LARGESYMPHONY               1\n",
       "RAIN BARREL SPIGOT KIT                 1\n",
       "CHAIN BEAD #6BPS W/CON3'               1\n",
       "WIND CHIME MINI ANGEL                  1\n",
       "REGISTER WALL WHT 8X4\"                 1\n",
       "GLOVE GOAT GRAIN MED PR                1\n",
       "GAS TRIMMER CRV 15\" 25CC               1\n",
       "FLAG,REG,AMERICAN WATERMELON           1\n",
       "ALUMINUM BOX LEVEL 48\"                 1\n",
       "EXT CORD 25' 3OUTLT GRND               1\n",
       "CAR CHARM, DOG,ZINC                    1\n",
       "5\"CASTER                               1\n",
       "PNTR CHOICE CVR 9\"X 3/8\"               1\n",
       "PRO PNTBRSH AS POLY 3\"                 1\n",
       "STEEL T-BAR PULL 4\"-6\"OVERALL          1\n",
       "PIE SERVER SS/BLK                      1\n",
       "ALLWAY EXTEND 3\" H/D BENT SCRPR        1\n",
       "TIP SOLDER COPPER W/NUTS               1\n",
       "Name: Item Description, Length: 41216, dtype: int64"
      ]
     },
     "execution_count": 285,
     "metadata": {},
     "output_type": "execute_result"
    }
   ],
   "source": [
    "df['Item Description'].value_counts()"
   ]
  },
  {
   "cell_type": "code",
   "execution_count": 319,
   "metadata": {},
   "outputs": [
    {
     "data": {
      "text/plain": [
       "70    107623\n",
       "14     70872\n",
       "DO     69714\n",
       "56     40698\n",
       "50     39464\n",
       "40     38150\n",
       "30     28743\n",
       "64     26084\n",
       "I1     23986\n",
       "10     23584\n",
       "20     22467\n",
       "34     18655\n",
       "94     16487\n",
       "H2     14958\n",
       "80     12284\n",
       "88      9922\n",
       "84      8441\n",
       "46      6240\n",
       "76      5254\n",
       "90      3843\n",
       "58      2563\n",
       "LP      2185\n",
       "9       2162\n",
       "60      1234\n",
       "59      1108\n",
       "28      1026\n",
       "GS       982\n",
       "IG       477\n",
       "I9       475\n",
       "MI       106\n",
       "CR        36\n",
       "H4        31\n",
       "79        31\n",
       "GC        29\n",
       "LA        27\n",
       "SO        27\n",
       "MK         9\n",
       "OI         9\n",
       "DP         7\n",
       "H1         3\n",
       "RE         2\n",
       "99         1\n",
       "QX         1\n",
       "Name: Department Code, dtype: int64"
      ]
     },
     "execution_count": 319,
     "metadata": {},
     "output_type": "execute_result"
    }
   ],
   "source": [
    "df['Department Code'].value_counts()"
   ]
  },
  {
   "cell_type": "code",
   "execution_count": 288,
   "metadata": {
    "scrolled": true
   },
   "outputs": [
    {
     "data": {
      "text/plain": [
       "LAWN, GARDEN & FARM SUPPLIES        107623\n",
       "PAINT & PAINT SUPPLIES               70872\n",
       "DONTATIONS                           69714\n",
       "FASTENERS                            40698\n",
       "HARDWARE                             39464\n",
       "PLUMBING SUPPLIES & FIXTURES         38150\n",
       "FLASHLIGHTS, LIGHTING & SUPPLIES     28743\n",
       "HOUSEWARES & GIFTS                   26084\n",
       "ACE REWARDS INSTANT SAVINGS          23986\n",
       "CLEANING SUPPLIES                    23584\n",
       "HAND TOOLS & TOOL ACCESSORIES        22467\n",
       "ELECTRICAL SUPPLIES                  18655\n",
       "NOTIONS & MISCELLANEOUS              16487\n",
       "IN STORE COUPONS                     14958\n",
       "SPORTING GOODS                       12284\n",
       "OUTDOOR LIVING & FURNITURE            9922\n",
       "AUTOMOTIVE                            8441\n",
       "HEATING & COOLING SUPPLIES            6240\n",
       "OUTDOOR EQUIPMENT & POWER TOOLS       5254\n",
       "STATIONARY & STORE SUPPLIES           3843\n",
       "BUILDING MATERIALS & PRODUCTS         2563\n",
       "LIPA INSTANT REBATE                   2185\n",
       "SODA/ETC                              2162\n",
       "APPLIANCES & HOME ENTERTAINMENT       1234\n",
       "REPAIRS                               1108\n",
       "POWER TOOLS & ACCESSORIES             1026\n",
       "PROPANE FILLS                          982\n",
       "COSTELLOS GIFT CARD                    477\n",
       "NON-ACE INSTANT SAVINGS                475\n",
       "MISCELANEOUS SALES                     106\n",
       "CREDIT CARD REFUND                      36\n",
       "SHARPENING                              31\n",
       "HHC COUPONS AND CERTIFICATES            31\n",
       "GIFT CARD                               29\n",
       "LABOR                                   27\n",
       "SPECIAL ORDER                           27\n",
       "OTHER INCOME                             9\n",
       "MARKETING                                9\n",
       "DEPOSITS                                 7\n",
       "HHC MANUFACTURER COUPONS (TAXABL         3\n",
       "RENTAL                                   2\n",
       "DELIVERY & UPS                           1\n",
       "GIFT CARD OFFSET (SPECL PROMO)           1\n",
       "Name: Department Name, dtype: int64"
      ]
     },
     "execution_count": 288,
     "metadata": {},
     "output_type": "execute_result"
    }
   ],
   "source": [
    "df['Department Name'].value_counts()"
   ]
  },
  {
   "cell_type": "code",
   "execution_count": 322,
   "metadata": {
    "scrolled": true
   },
   "outputs": [
    {
     "data": {
      "text/plain": [
       "DONATIONS                    69512\n",
       "ACE COUPON/CREDIT ITEMS      36532\n",
       "HILLMAN GROUP, INC.          35525\n",
       "BAG PRODUCTS                 18369\n",
       "CANDY AND FOODS              12139\n",
       "FERTILIZERS                  11864\n",
       "GRASS SEED                   10937\n",
       "INCANDESCENT LIGHT BULBS     10645\n",
       "NURSERY/LIVE GOODS           10168\n",
       "INSECTICIDES/REPELLENTS      10045\n",
       "KEYS                         10035\n",
       "LIQUID PAINT- NATIONAL        8217\n",
       "WEED CONTROL PRODUCTS         8130\n",
       "PAINT ROLLERS                 8057\n",
       "SPRAY PAINTS                  7410\n",
       "PLASTIC FITTINGS              7400\n",
       "BIRD PRODUCTS                 7374\n",
       "TRASH BAGS                    7058\n",
       "PAINT BRUSHES                 6412\n",
       "HOUSEHOLD CLEANERS            5933\n",
       "BATTERIES                     5923\n",
       "CAULK/SEALANTS/GLAZING        5422\n",
       "LED LIGHT BULBS               5378\n",
       "GLUES/ADHESIVES/APPLICATR     5311\n",
       "HAND/POWER SANDING ABRASI     3958\n",
       "HOSE FITTINGS                 3854\n",
       "REWARDS CARD                  3753\n",
       "HOSE NOZZLES                  3303\n",
       "TAPES                         3039\n",
       "GLOVES/FOOTWEAR               3035\n",
       "                             ...  \n",
       "TENTS AND SLEEPING BAGS          3\n",
       "MANUFACTURER FUNDED SKUS         3\n",
       "GROUNDING RODS                   2\n",
       "HAND/PUSH/BRACE DRILLS           2\n",
       "MEDICINE CABINETS/LIGHTS         2\n",
       "HEAT CABLE                       2\n",
       "INDOOR GAMES                     2\n",
       "ICE CREAM FREEZERS               2\n",
       "WATERBED ACCESSORIES             2\n",
       "STORE SUPPLIES (NON-TAX)         2\n",
       "SNOW THROWERS/ACCS               2\n",
       "SUNDRIES                         2\n",
       "ELECTRIC FRYERS/SKILLETS         2\n",
       "CLOTHING & FOOTWEAR              1\n",
       "UNKNOWN CLASS 063                1\n",
       "TRIKES/WAGONS/SCOOTERS           1\n",
       "SECOND PIECE ITEMS               1\n",
       "AIR GUNS AND ACCESSORIES         1\n",
       "UNKNOWN CLASS 062                1\n",
       "ANIMAL FEED-FORAGE-TREATS        1\n",
       "EVAPORATIVE COOLERS/ACCS         1\n",
       "TELEVISION ANTENNAS              1\n",
       "TABLE LEGS                       1\n",
       "CHORE EQUIPMENT                  1\n",
       "CARPET SWP,SHAMPOO&VAC BG        1\n",
       "FOGGING EQUIPMENT                1\n",
       "MARINE FLOATATION/BOATS          1\n",
       "HALLOWEEN                        1\n",
       "CHIMNEY MAINTENANCE              1\n",
       "LAUNDRY TUBS                     1\n",
       "Name: Class Name, Length: 582, dtype: int64"
      ]
     },
     "execution_count": 322,
     "metadata": {},
     "output_type": "execute_result"
    }
   ],
   "source": [
    "df['Class Name'].value_counts()"
   ]
  },
  {
   "cell_type": "code",
   "execution_count": 348,
   "metadata": {},
   "outputs": [],
   "source": [
    "def load_column(cols):\n",
    "    return pd.read_csv(\"/home/surabhi/Downloads/costello_ace_2017-2018.csv\", usecols = [cols])\n",
    "    "
   ]
  },
  {
   "cell_type": "code",
   "execution_count": 347,
   "metadata": {},
   "outputs": [],
   "source": [
    "def plot_count_plot(df, col):\n",
    "    g = sns.countplot(df[col])\n",
    "    g.set_xticklabels(g.get_xticklabels(),rotation=90)"
   ]
  },
  {
   "cell_type": "code",
   "execution_count": 350,
   "metadata": {},
   "outputs": [],
   "source": [
    "df_price_src = load_column('Pricing Source')"
   ]
  },
  {
   "cell_type": "code",
   "execution_count": 355,
   "metadata": {},
   "outputs": [
    {
     "data": {
      "text/plain": [
       "Replacement Cost      22\n",
       "Pricing Source        23\n",
       "Open Quote          1130\n",
       "*                   3061\n",
       "Average Cost        4436\n",
       "Name: Pricing Source, dtype: int64"
      ]
     },
     "execution_count": 355,
     "metadata": {},
     "output_type": "execute_result"
    }
   ],
   "source": [
    "df_price_src['Pricing Source'].value_counts().sort_values(ascending = True).head(5)"
   ]
  },
  {
   "cell_type": "code",
   "execution_count": 357,
   "metadata": {},
   "outputs": [],
   "source": [
    "frame = df_price_src['Pricing Source'].value_counts().sort_values(ascending = True).head(5)"
   ]
  },
  {
   "cell_type": "code",
   "execution_count": 364,
   "metadata": {},
   "outputs": [],
   "source": [
    "df_price_src_low = df_price_src[df_price_src['Pricing Source'].isin(frame.index)]"
   ]
  },
  {
   "cell_type": "code",
   "execution_count": 365,
   "metadata": {
    "scrolled": true
   },
   "outputs": [
    {
     "data": {
      "text/plain": [
       "<matplotlib.axes._subplots.AxesSubplot at 0x7fca93814cf8>"
      ]
     },
     "execution_count": 365,
     "metadata": {},
     "output_type": "execute_result"
    },
    {
     "data": {
      "image/png": "[encoded data removed]",
      "text/plain": [
       "<Figure size 432x288 with 1 Axes>"
      ]
     },
     "metadata": {
      "needs_background": "light"
     },
     "output_type": "display_data"
    }
   ],
   "source": [
    "sns.countplot(df_price_src_low['Pricing Source'])"
   ]
  },
  {
   "cell_type": "code",
   "execution_count": 352,
   "metadata": {
    "scrolled": true
   },
   "outputs": [
    {
     "data": {
      "image/png": "[encoded data removed]",
      "text/plain": [
       "<Figure size 432x288 with 1 Axes>"
      ]
     },
     "metadata": {
      "needs_background": "light"
     },
     "output_type": "display_data"
    }
   ],
   "source": [
    "plot_count_plot(df_price_src, 'Pricing Source')"
   ]
  }
 ],
 "metadata": {
  "kernelspec": {
   "display_name": "Python 3",
   "language": "python",
   "name": "python3"
  },
  "language_info": {
   "codemirror_mode": {
    "name": "ipython",
    "version": 3
   },
   "file_extension": ".py",
   "mimetype": "text/x-python",
   "name": "python",
   "nbconvert_exporter": "python",
   "pygments_lexer": "ipython3",
   "version": "3.7.3"
  }
 },
 "nbformat": 4,
 "nbformat_minor": 2
}
