{
  "nbformat": 4,
  "nbformat_minor": 0,
  "metadata": {
    "kernelspec": {
      "name": "python3",
      "display_name": "Python 3"
    },
    "language_info": {
      "codemirror_mode": {
        "name": "ipython",
        "version": 3
      },
      "file_extension": ".py",
      "mimetype": "text/x-python",
      "name": "python",
      "nbconvert_exporter": "python",
      "pygments_lexer": "ipython3",
      "version": "3.7.3"
    },
    "colab": {
      "name": "Market Basket Analysis.ipynb",
      "provenance": [],
      "collapsed_sections": [],
      "machine_shape": "hm"
    },
    "accelerator": "GPU"
  },
  "cells": [
    {
      "cell_type": "code",
      "metadata": {
        "id": "JJmZZ2TzQGyj",
        "colab_type": "code",
        "colab": {}
      },
      "source": [
        "import pandas as pd\n",
        "import numpy as np \n",
        "import seaborn as sns\n",
        "import matplotlib.pyplot as plt\n",
        "from mlxtend.frequent_patterns import apriori\n",
        "from mlxtend.frequent_patterns import association_rules\n",
        "import mlxtend as ml"
      ],
      "execution_count": 0,
      "outputs": []
    },
    {
      "cell_type": "code",
      "metadata": {
        "id": "IggUr1o_QREJ",
        "colab_type": "code",
        "outputId": "c687ed83-6ed3-424a-83b8-a6dcfc8e298e",
        "colab": {
          "base_uri": "https://localhost:8080/",
          "height": 121
        }
      },
      "source": [
        "from google.colab import drive\n",
        "drive.mount('/content/drive')"
      ],
      "execution_count": 2,
      "outputs": [
        {
          "output_type": "stream",
          "text": [
            "Go to this URL in a browser: https://accounts.google.com/o/oauth2/auth?client_id=947318989803-6bn6qk8qdgf4n4g3pfee6491hc0brc4i.apps.googleusercontent.com&redirect_uri=urn%3aietf%3awg%3aoauth%3a2.0%3aoob&response_type=code&scope=email%20https%3a%2f%2fwww.googleapis.com%2fauth%2fdocs.test%20https%3a%2f%2fwww.googleapis.com%2fauth%2fdrive%20https%3a%2f%2fwww.googleapis.com%2fauth%2fdrive.photos.readonly%20https%3a%2f%2fwww.googleapis.com%2fauth%2fpeopleapi.readonly\n",
            "\n",
            "Enter your authorization code:\n",
            "··········\n",
            "Mounted at /content/drive\n"
          ],
          "name": "stdout"
        }
      ]
    },
    {
      "cell_type": "code",
      "metadata": {
        "id": "yQH20SE2Qbbc",
        "colab_type": "code",
        "colab": {}
      },
      "source": [
        "import os"
      ],
      "execution_count": 0,
      "outputs": []
    },
    {
      "cell_type": "code",
      "metadata": {
        "id": "c5fXq-YpQbib",
        "colab_type": "code",
        "outputId": "3a5bea7a-3801-44b7-b7b7-445959d1e541",
        "colab": {
          "base_uri": "https://localhost:8080/",
          "height": 34
        }
      },
      "source": [
        "cd drive/My\\ Drive/DSF/Project/"
      ],
      "execution_count": 4,
      "outputs": [
        {
          "output_type": "stream",
          "text": [
            "/content/drive/My Drive/DSF/Project\n"
          ],
          "name": "stdout"
        }
      ]
    },
    {
      "cell_type": "code",
      "metadata": {
        "id": "77C-HTpwShgS",
        "colab_type": "code",
        "outputId": "7c2b7c63-945a-475a-988a-f10194253b21",
        "colab": {
          "base_uri": "https://localhost:8080/",
          "height": 50
        }
      },
      "source": [
        "ls"
      ],
      "execution_count": 5,
      "outputs": [
        {
          "output_type": "stream",
          "text": [
            " costello_ace_2015-2016.csv   File.txt\n",
            " costello_ace_2017-2018.csv  \u001b[0m\u001b[01;34m\"Retail Data Analysis - Data CSE519 Fall'19\"\u001b[0m/\n"
          ],
          "name": "stdout"
        }
      ]
    },
    {
      "cell_type": "code",
      "metadata": {
        "id": "y6qPwD-kQGyr",
        "colab_type": "code",
        "colab": {}
      },
      "source": [
        "df = pd.read_csv(\"costello_ace_2015-2016.csv\", usecols=['Receipt Number','Item Description'])"
      ],
      "execution_count": 0,
      "outputs": []
    },
    {
      "cell_type": "code",
      "metadata": {
        "id": "pl5HcvYEQGyu",
        "colab_type": "code",
        "colab": {}
      },
      "source": [
        "df1 = pd.read_csv(\"costello_ace_2017-2018.csv\", usecols=['Receipt Number','Item Description'])"
      ],
      "execution_count": 0,
      "outputs": []
    },
    {
      "cell_type": "code",
      "metadata": {
        "id": "jSS6k0HZQGyx",
        "colab_type": "code",
        "colab": {}
      },
      "source": [
        "df = df.append(df1)"
      ],
      "execution_count": 0,
      "outputs": []
    },
    {
      "cell_type": "code",
      "metadata": {
        "id": "zKHZu0NhQGy0",
        "colab_type": "code",
        "outputId": "72d46d12-1fa8-417d-a377-896e171857c7",
        "colab": {
          "base_uri": "https://localhost:8080/",
          "height": 195
        }
      },
      "source": [
        "df.head()"
      ],
      "execution_count": 9,
      "outputs": [
        {
          "output_type": "execute_result",
          "data": {
            "text/html": [
              "<div>\n",
              "<style scoped>\n",
              "    .dataframe tbody tr th:only-of-type {\n",
              "        vertical-align: middle;\n",
              "    }\n",
              "\n",
              "    .dataframe tbody tr th {\n",
              "        vertical-align: top;\n",
              "    }\n",
              "\n",
              "    .dataframe thead th {\n",
              "        text-align: right;\n",
              "    }\n",
              "</style>\n",
              "<table border=\"1\" class=\"dataframe\">\n",
              "  <thead>\n",
              "    <tr style=\"text-align: right;\">\n",
              "      <th></th>\n",
              "      <th>Receipt Number</th>\n",
              "      <th>Item Description</th>\n",
              "    </tr>\n",
              "  </thead>\n",
              "  <tbody>\n",
              "    <tr>\n",
              "      <th>0</th>\n",
              "      <td>4297</td>\n",
              "      <td>REG SEL INT MATTE BS1 GL</td>\n",
              "    </tr>\n",
              "    <tr>\n",
              "      <th>1</th>\n",
              "      <td>4297</td>\n",
              "      <td>REG SEL INT MATTE BS2 GL</td>\n",
              "    </tr>\n",
              "    <tr>\n",
              "      <th>2</th>\n",
              "      <td>A03697</td>\n",
              "      <td>BLADE CUTOFF 4.5X1/16MTL</td>\n",
              "    </tr>\n",
              "    <tr>\n",
              "      <th>3</th>\n",
              "      <td>A03697</td>\n",
              "      <td>CUT WHL4-1/2X.045 MTL</td>\n",
              "    </tr>\n",
              "    <tr>\n",
              "      <th>4</th>\n",
              "      <td>A03697</td>\n",
              "      <td>GLOVE LTHR PALM WRK 3PK</td>\n",
              "    </tr>\n",
              "  </tbody>\n",
              "</table>\n",
              "</div>"
            ],
            "text/plain": [
              "  Receipt Number          Item Description\n",
              "0           4297  REG SEL INT MATTE BS1 GL\n",
              "1           4297  REG SEL INT MATTE BS2 GL\n",
              "2         A03697  BLADE CUTOFF 4.5X1/16MTL\n",
              "3         A03697     CUT WHL4-1/2X.045 MTL\n",
              "4         A03697   GLOVE LTHR PALM WRK 3PK"
            ]
          },
          "metadata": {
            "tags": []
          },
          "execution_count": 9
        }
      ]
    },
    {
      "cell_type": "code",
      "metadata": {
        "id": "1gJ24Km1QGy2",
        "colab_type": "code",
        "outputId": "4c1058b1-d34e-44af-d559-2da49c675d17",
        "colab": {
          "base_uri": "https://localhost:8080/",
          "height": 34
        }
      },
      "source": [
        "print(df.shape)"
      ],
      "execution_count": 10,
      "outputs": [
        {
          "output_type": "stream",
          "text": [
            "(32955543, 2)\n"
          ],
          "name": "stdout"
        }
      ]
    },
    {
      "cell_type": "code",
      "metadata": {
        "id": "1UxR2BxXQGy4",
        "colab_type": "code",
        "outputId": "8c0a7f11-d2d8-4663-eacb-f6ab6c2e1555",
        "colab": {
          "base_uri": "https://localhost:8080/",
          "height": 218
        }
      },
      "source": [
        "df['Item Description']"
      ],
      "execution_count": 11,
      "outputs": [
        {
          "output_type": "execute_result",
          "data": {
            "text/plain": [
              "0           REG SEL INT MATTE BS1 GL\n",
              "1           REG SEL INT MATTE BS2 GL\n",
              "2           BLADE CUTOFF 4.5X1/16MTL\n",
              "3              CUT WHL4-1/2X.045 MTL\n",
              "4            GLOVE LTHR PALM WRK 3PK\n",
              "                      ...           \n",
              "17328039       PALMYRA PUSHBROOM 18\"\n",
              "17328040      WIRE BRUSH MINI SS 3PK\n",
              "17328041         BRUSH SCRUB HANG-UP\n",
              "17328042         CM SLIDE LOCK KNIFE\n",
              "17328043                         NaN\n",
              "Name: Item Description, Length: 32955543, dtype: object"
            ]
          },
          "metadata": {
            "tags": []
          },
          "execution_count": 11
        }
      ]
    },
    {
      "cell_type": "code",
      "metadata": {
        "id": "2G_fWtjeQGy6",
        "colab_type": "code",
        "colab": {}
      },
      "source": [
        "df_copy = df.copy()"
      ],
      "execution_count": 0,
      "outputs": []
    },
    {
      "cell_type": "code",
      "metadata": {
        "id": "ZGtCeFcXQGy8",
        "colab_type": "code",
        "colab": {}
      },
      "source": [
        "# removing unnecessary items\n",
        "df_copy = df_copy.drop(df_copy[df_copy['Item Description']=='CMN Donations'].index)\n",
        "df_copy = df_copy.drop(df_copy[df_copy['Item Description']=='FASTENERS'].index)\n",
        "df_copy = df_copy.drop(df_copy[df_copy['Item Description']=='FASTENERS/SCREWS/NAILS/BOLTS ETC'].index)\n",
        "df_copy = df_copy[~df_copy['Item Description'].str.contains('INST SAVINGS', na=False)]\n",
        "df_copy = df_copy[~df_copy['Item Description'].str.contains('COUPON SAVE', na=False)]"
      ],
      "execution_count": 0,
      "outputs": []
    },
    {
      "cell_type": "code",
      "metadata": {
        "scrolled": true,
        "id": "fPzkMTuwQGy-",
        "colab_type": "code",
        "outputId": "2b07a655-f7a4-4bed-d1a6-d2cf5732b4ef",
        "colab": {
          "base_uri": "https://localhost:8080/",
          "height": 218
        }
      },
      "source": [
        "df_copy['Item Description'].value_counts()"
      ],
      "execution_count": 14,
      "outputs": [
        {
          "output_type": "execute_result",
          "data": {
            "text/plain": [
              "BIRDSEED WILDBIRD 20#ACE        141856\n",
              "KEY KWIKSET KW1-ACE250PK        111535\n",
              "KEY SCHLAGE SC1-ACE250PK         95032\n",
              "CONTRACTOR BAGS 3MIL. 20CNT      78390\n",
              "TRAP SPIDER & CRICKET PK         62843\n",
              "                                 ...  \n",
              "FEBOFFER1$5OFF$25                    1\n",
              "16\" CARDINALS HOT AIR BALLON         1\n",
              "SY-ANY1-PET                          1\n",
              "SPRYPNT STAINGLS ONE 6OZ             1\n",
              "TRIM GIFT GOLD SNOWFLAKE             1\n",
              "Name: Item Description, Length: 132809, dtype: int64"
            ]
          },
          "metadata": {
            "tags": []
          },
          "execution_count": 14
        }
      ]
    },
    {
      "cell_type": "code",
      "metadata": {
        "id": "7dVwFr5LQGzC",
        "colab_type": "code",
        "outputId": "c7e4a287-a004-447a-f933-d24687a87ce5",
        "colab": {
          "base_uri": "https://localhost:8080/",
          "height": 218
        }
      },
      "source": [
        "df_copy['Item Description'].value_counts()"
      ],
      "execution_count": 16,
      "outputs": [
        {
          "output_type": "execute_result",
          "data": {
            "text/plain": [
              "BIRDSEED WILDBIRD 20#ACE       141856\n",
              "KEY KWIKSET KW1-ACE250PK       111535\n",
              "KEY SCHLAGE SC1-ACE250PK        95032\n",
              "CONTRACTOR BAGS 3MIL. 20CNT     78390\n",
              "TRAP SPIDER & CRICKET PK        62843\n",
              "                                ...  \n",
              "POT TREE 4.5'HYDE PK WHT            1\n",
              "LARGE ROASTER COOKWARE              1\n",
              "SCREEN FIBER 48X100 GRAY            1\n",
              "TINLEY 2H KIT FAUCET BN             1\n",
              "TRIM GIFT GOLD SNOWFLAKE            1\n",
              "Name: Item Description, Length: 130899, dtype: int64"
            ]
          },
          "metadata": {
            "tags": []
          },
          "execution_count": 16
        }
      ]
    },
    {
      "cell_type": "code",
      "metadata": {
        "id": "Aqa8Pfu_QGzE",
        "colab_type": "code",
        "colab": {}
      },
      "source": [
        "# creating basket of items.\n",
        "n = 100\n",
        "df1 = df_copy[df_copy['Item Description'].isin(df_copy['Item Description'].value_counts()[:n].index.tolist())]\n",
        "\n",
        "basket_full = df1.groupby(['Receipt Number','Item Description']).size().reset_index(name='count')\n",
        "basket_full = (basket_full.groupby(['Receipt Number','Item Description'])['count'].sum().unstack().reset_index().fillna(0).set_index('Receipt Number'))\n",
        "\n",
        "def encode_units(x):\n",
        "    if x <= 0:\n",
        "        return 0\n",
        "    if x >= 1:\n",
        "        return 1\n",
        "    \n",
        "basket_sets_full = basket_full.applymap(encode_units)"
      ],
      "execution_count": 0,
      "outputs": []
    },
    {
      "cell_type": "markdown",
      "metadata": {
        "id": "pelmsedn32bR",
        "colab_type": "text"
      },
      "source": [
        "Removing baskets with single item:"
      ]
    },
    {
      "cell_type": "code",
      "metadata": {
        "scrolled": true,
        "id": "ZMy79aZUQGzH",
        "colab_type": "code",
        "colab": {}
      },
      "source": [
        "basket_sets_full['sum'] = basket_sets_full.sum(axis=1)"
      ],
      "execution_count": 0,
      "outputs": []
    },
    {
      "cell_type": "code",
      "metadata": {
        "id": "j8CkzjuCQGzJ",
        "colab_type": "code",
        "colab": {}
      },
      "source": [
        "basket_sets_full = basket_sets_full[basket_sets_full['sum']>1]"
      ],
      "execution_count": 0,
      "outputs": []
    },
    {
      "cell_type": "code",
      "metadata": {
        "id": "LB6pRlmRQGzK",
        "colab_type": "code",
        "outputId": "c5df34ab-4fc5-43e8-aaab-7b26d7bcb14e",
        "colab": {
          "base_uri": "https://localhost:8080/",
          "height": 252
        }
      },
      "source": [
        "basket_sets_full[\"sum\"].value_counts()"
      ],
      "execution_count": 36,
      "outputs": [
        {
          "output_type": "execute_result",
          "data": {
            "text/plain": [
              "2     269303\n",
              "3     187718\n",
              "4     104406\n",
              "5      48579\n",
              "6      20273\n",
              "7       7604\n",
              "8       2550\n",
              "9        932\n",
              "10       288\n",
              "11        69\n",
              "12        17\n",
              "14         2\n",
              "13         2\n",
              "Name: sum, dtype: int64"
            ]
          },
          "metadata": {
            "tags": []
          },
          "execution_count": 36
        }
      ]
    },
    {
      "cell_type": "code",
      "metadata": {
        "id": "ubRdqIjsQGzM",
        "colab_type": "code",
        "colab": {}
      },
      "source": [
        "basket_sets_full.drop(columns=['sum'], inplace=True)"
      ],
      "execution_count": 0,
      "outputs": []
    },
    {
      "cell_type": "code",
      "metadata": {
        "id": "902SXjcgQGzO",
        "colab_type": "code",
        "outputId": "69aac26a-61e4-45a5-9698-0b428d2c4d12",
        "colab": {
          "base_uri": "https://localhost:8080/",
          "height": 34
        }
      },
      "source": [
        "basket_sets_full.shape"
      ],
      "execution_count": 38,
      "outputs": [
        {
          "output_type": "execute_result",
          "data": {
            "text/plain": [
              "(641743, 100)"
            ]
          },
          "metadata": {
            "tags": []
          },
          "execution_count": 38
        }
      ]
    },
    {
      "cell_type": "code",
      "metadata": {
        "id": "3YgDIrNmQGzQ",
        "colab_type": "code",
        "colab": {}
      },
      "source": [
        "# del df, df1"
      ],
      "execution_count": 0,
      "outputs": []
    },
    {
      "cell_type": "code",
      "metadata": {
        "id": "Xwpa-1_cQGzY",
        "colab_type": "code",
        "outputId": "69082043-4ec7-4e37-c905-44eaf8cb623c",
        "colab": {
          "base_uri": "https://localhost:8080/",
          "height": 521
        }
      },
      "source": [
        "# getting association rules using apriori algorithm\n",
        "frequent_itemsets_full = apriori(basket_sets_full, min_support=0.01, use_colnames=True)\n",
        "rules = association_rules(frequent_itemsets_full, metric=\"lift\")\n",
        "rules.sort_values('confidence', ascending = False, inplace = True)\n",
        "rules"
      ],
      "execution_count": 42,
      "outputs": [
        {
          "output_type": "execute_result",
          "data": {
            "text/html": [
              "<div>\n",
              "<style scoped>\n",
              "    .dataframe tbody tr th:only-of-type {\n",
              "        vertical-align: middle;\n",
              "    }\n",
              "\n",
              "    .dataframe tbody tr th {\n",
              "        vertical-align: top;\n",
              "    }\n",
              "\n",
              "    .dataframe thead th {\n",
              "        text-align: right;\n",
              "    }\n",
              "</style>\n",
              "<table border=\"1\" class=\"dataframe\">\n",
              "  <thead>\n",
              "    <tr style=\"text-align: right;\">\n",
              "      <th></th>\n",
              "      <th>antecedents</th>\n",
              "      <th>consequents</th>\n",
              "      <th>antecedent support</th>\n",
              "      <th>consequent support</th>\n",
              "      <th>support</th>\n",
              "      <th>confidence</th>\n",
              "      <th>lift</th>\n",
              "      <th>leverage</th>\n",
              "      <th>conviction</th>\n",
              "    </tr>\n",
              "  </thead>\n",
              "  <tbody>\n",
              "    <tr>\n",
              "      <th>2</th>\n",
              "      <td>(ORANGE BURST SUET)</td>\n",
              "      <td>(BERRY BLAST SUET)</td>\n",
              "      <td>0.019302</td>\n",
              "      <td>0.022146</td>\n",
              "      <td>0.010707</td>\n",
              "      <td>0.554694</td>\n",
              "      <td>25.047233</td>\n",
              "      <td>0.010279</td>\n",
              "      <td>2.195917</td>\n",
              "    </tr>\n",
              "    <tr>\n",
              "      <th>0</th>\n",
              "      <td>(BERRY BLAST SUET)</td>\n",
              "      <td>(BIRD BLEND SUET)</td>\n",
              "      <td>0.022146</td>\n",
              "      <td>0.025400</td>\n",
              "      <td>0.011064</td>\n",
              "      <td>0.499578</td>\n",
              "      <td>19.668747</td>\n",
              "      <td>0.010501</td>\n",
              "      <td>1.947556</td>\n",
              "    </tr>\n",
              "    <tr>\n",
              "      <th>3</th>\n",
              "      <td>(BERRY BLAST SUET)</td>\n",
              "      <td>(ORANGE BURST SUET)</td>\n",
              "      <td>0.022146</td>\n",
              "      <td>0.019302</td>\n",
              "      <td>0.010707</td>\n",
              "      <td>0.483465</td>\n",
              "      <td>25.047233</td>\n",
              "      <td>0.010279</td>\n",
              "      <td>1.898608</td>\n",
              "    </tr>\n",
              "    <tr>\n",
              "      <th>1</th>\n",
              "      <td>(BIRD BLEND SUET)</td>\n",
              "      <td>(BERRY BLAST SUET)</td>\n",
              "      <td>0.025400</td>\n",
              "      <td>0.022146</td>\n",
              "      <td>0.011064</td>\n",
              "      <td>0.435583</td>\n",
              "      <td>19.668747</td>\n",
              "      <td>0.010501</td>\n",
              "      <td>1.732502</td>\n",
              "    </tr>\n",
              "    <tr>\n",
              "      <th>14</th>\n",
              "      <td>(KEY SCHLAGE SC1-ACE250PK)</td>\n",
              "      <td>(KEY KWIKSET KW1-ACE250PK)</td>\n",
              "      <td>0.118133</td>\n",
              "      <td>0.136954</td>\n",
              "      <td>0.028977</td>\n",
              "      <td>0.245294</td>\n",
              "      <td>1.791076</td>\n",
              "      <td>0.012799</td>\n",
              "      <td>1.143553</td>\n",
              "    </tr>\n",
              "    <tr>\n",
              "      <th>15</th>\n",
              "      <td>(KEY KWIKSET KW1-ACE250PK)</td>\n",
              "      <td>(KEY SCHLAGE SC1-ACE250PK)</td>\n",
              "      <td>0.136954</td>\n",
              "      <td>0.118133</td>\n",
              "      <td>0.028977</td>\n",
              "      <td>0.211585</td>\n",
              "      <td>1.791076</td>\n",
              "      <td>0.012799</td>\n",
              "      <td>1.118532</td>\n",
              "    </tr>\n",
              "    <tr>\n",
              "      <th>9</th>\n",
              "      <td>(PEAK WASH/DEICER -25)</td>\n",
              "      <td>(BIRDSEED WILDBIRD 20#ACE)</td>\n",
              "      <td>0.075256</td>\n",
              "      <td>0.162176</td>\n",
              "      <td>0.011061</td>\n",
              "      <td>0.146972</td>\n",
              "      <td>0.906251</td>\n",
              "      <td>-0.001144</td>\n",
              "      <td>0.982177</td>\n",
              "    </tr>\n",
              "    <tr>\n",
              "      <th>11</th>\n",
              "      <td>(TRAP SPIDER &amp; CRICKET PK)</td>\n",
              "      <td>(BIRDSEED WILDBIRD 20#ACE)</td>\n",
              "      <td>0.079064</td>\n",
              "      <td>0.162176</td>\n",
              "      <td>0.011336</td>\n",
              "      <td>0.143381</td>\n",
              "      <td>0.884109</td>\n",
              "      <td>-0.001486</td>\n",
              "      <td>0.978059</td>\n",
              "    </tr>\n",
              "    <tr>\n",
              "      <th>4</th>\n",
              "      <td>(CONTRACTOR BAGS 3MIL. 20CNT)</td>\n",
              "      <td>(BIRDSEED WILDBIRD 20#ACE)</td>\n",
              "      <td>0.099622</td>\n",
              "      <td>0.162176</td>\n",
              "      <td>0.013805</td>\n",
              "      <td>0.138569</td>\n",
              "      <td>0.854439</td>\n",
              "      <td>-0.002352</td>\n",
              "      <td>0.972596</td>\n",
              "    </tr>\n",
              "    <tr>\n",
              "      <th>7</th>\n",
              "      <td>(KEY KWIKSET KW1-ACE250PK)</td>\n",
              "      <td>(BIRDSEED WILDBIRD 20#ACE)</td>\n",
              "      <td>0.136954</td>\n",
              "      <td>0.162176</td>\n",
              "      <td>0.017770</td>\n",
              "      <td>0.129755</td>\n",
              "      <td>0.800087</td>\n",
              "      <td>-0.004440</td>\n",
              "      <td>0.962745</td>\n",
              "    </tr>\n",
              "    <tr>\n",
              "      <th>12</th>\n",
              "      <td>(CONTRACTOR BAGS 3MIL. 20CNT)</td>\n",
              "      <td>(KEY KWIKSET KW1-ACE250PK)</td>\n",
              "      <td>0.099622</td>\n",
              "      <td>0.136954</td>\n",
              "      <td>0.010965</td>\n",
              "      <td>0.110070</td>\n",
              "      <td>0.803704</td>\n",
              "      <td>-0.002678</td>\n",
              "      <td>0.969791</td>\n",
              "    </tr>\n",
              "    <tr>\n",
              "      <th>6</th>\n",
              "      <td>(BIRDSEED WILDBIRD 20#ACE)</td>\n",
              "      <td>(KEY KWIKSET KW1-ACE250PK)</td>\n",
              "      <td>0.162176</td>\n",
              "      <td>0.136954</td>\n",
              "      <td>0.017770</td>\n",
              "      <td>0.109575</td>\n",
              "      <td>0.800087</td>\n",
              "      <td>-0.004440</td>\n",
              "      <td>0.969252</td>\n",
              "    </tr>\n",
              "    <tr>\n",
              "      <th>5</th>\n",
              "      <td>(BIRDSEED WILDBIRD 20#ACE)</td>\n",
              "      <td>(CONTRACTOR BAGS 3MIL. 20CNT)</td>\n",
              "      <td>0.162176</td>\n",
              "      <td>0.099622</td>\n",
              "      <td>0.013805</td>\n",
              "      <td>0.085121</td>\n",
              "      <td>0.854439</td>\n",
              "      <td>-0.002352</td>\n",
              "      <td>0.984150</td>\n",
              "    </tr>\n",
              "    <tr>\n",
              "      <th>13</th>\n",
              "      <td>(KEY KWIKSET KW1-ACE250PK)</td>\n",
              "      <td>(CONTRACTOR BAGS 3MIL. 20CNT)</td>\n",
              "      <td>0.136954</td>\n",
              "      <td>0.099622</td>\n",
              "      <td>0.010965</td>\n",
              "      <td>0.080067</td>\n",
              "      <td>0.803704</td>\n",
              "      <td>-0.002678</td>\n",
              "      <td>0.978742</td>\n",
              "    </tr>\n",
              "    <tr>\n",
              "      <th>10</th>\n",
              "      <td>(BIRDSEED WILDBIRD 20#ACE)</td>\n",
              "      <td>(TRAP SPIDER &amp; CRICKET PK)</td>\n",
              "      <td>0.162176</td>\n",
              "      <td>0.079064</td>\n",
              "      <td>0.011336</td>\n",
              "      <td>0.069902</td>\n",
              "      <td>0.884109</td>\n",
              "      <td>-0.001486</td>\n",
              "      <td>0.990149</td>\n",
              "    </tr>\n",
              "    <tr>\n",
              "      <th>8</th>\n",
              "      <td>(BIRDSEED WILDBIRD 20#ACE)</td>\n",
              "      <td>(PEAK WASH/DEICER -25)</td>\n",
              "      <td>0.162176</td>\n",
              "      <td>0.075256</td>\n",
              "      <td>0.011061</td>\n",
              "      <td>0.068201</td>\n",
              "      <td>0.906251</td>\n",
              "      <td>-0.001144</td>\n",
              "      <td>0.992428</td>\n",
              "    </tr>\n",
              "  </tbody>\n",
              "</table>\n",
              "</div>"
            ],
            "text/plain": [
              "                      antecedents  ... conviction\n",
              "2             (ORANGE BURST SUET)  ...   2.195917\n",
              "0              (BERRY BLAST SUET)  ...   1.947556\n",
              "3              (BERRY BLAST SUET)  ...   1.898608\n",
              "1               (BIRD BLEND SUET)  ...   1.732502\n",
              "14     (KEY SCHLAGE SC1-ACE250PK)  ...   1.143553\n",
              "15     (KEY KWIKSET KW1-ACE250PK)  ...   1.118532\n",
              "9          (PEAK WASH/DEICER -25)  ...   0.982177\n",
              "11     (TRAP SPIDER & CRICKET PK)  ...   0.978059\n",
              "4   (CONTRACTOR BAGS 3MIL. 20CNT)  ...   0.972596\n",
              "7      (KEY KWIKSET KW1-ACE250PK)  ...   0.962745\n",
              "12  (CONTRACTOR BAGS 3MIL. 20CNT)  ...   0.969791\n",
              "6      (BIRDSEED WILDBIRD 20#ACE)  ...   0.969252\n",
              "5      (BIRDSEED WILDBIRD 20#ACE)  ...   0.984150\n",
              "13     (KEY KWIKSET KW1-ACE250PK)  ...   0.978742\n",
              "10     (BIRDSEED WILDBIRD 20#ACE)  ...   0.990149\n",
              "8      (BIRDSEED WILDBIRD 20#ACE)  ...   0.992428\n",
              "\n",
              "[16 rows x 9 columns]"
            ]
          },
          "metadata": {
            "tags": []
          },
          "execution_count": 42
        }
      ]
    },
    {
      "cell_type": "code",
      "metadata": {
        "id": "aWTQibbWjcc7",
        "colab_type": "code",
        "colab": {
          "base_uri": "https://localhost:8080/",
          "height": 84
        },
        "outputId": "7690664a-89f9-46d8-8380-86c36d988292"
      },
      "source": [
        "support=rules.as_matrix(columns=['support'])\n",
        "confidence=rules.as_matrix(columns=['confidence'])"
      ],
      "execution_count": 52,
      "outputs": [
        {
          "output_type": "stream",
          "text": [
            "/usr/local/lib/python3.6/dist-packages/ipykernel_launcher.py:1: FutureWarning: Method .as_matrix will be removed in a future version. Use .values instead.\n",
            "  \"\"\"Entry point for launching an IPython kernel.\n",
            "/usr/local/lib/python3.6/dist-packages/ipykernel_launcher.py:2: FutureWarning: Method .as_matrix will be removed in a future version. Use .values instead.\n",
            "  \n"
          ],
          "name": "stderr"
        }
      ]
    },
    {
      "cell_type": "markdown",
      "metadata": {
        "id": "EvTjrxt44FmI",
        "colab_type": "text"
      },
      "source": [
        "Visualizing the association rules:"
      ]
    },
    {
      "cell_type": "code",
      "metadata": {
        "id": "CllhEROFjhuJ",
        "colab_type": "code",
        "colab": {
          "base_uri": "https://localhost:8080/",
          "height": 279
        },
        "outputId": "54db150b-d734-48b4-a879-078d878ef111"
      },
      "source": [
        "import random\n",
        "import matplotlib.pyplot as plt\n",
        " \n",
        " \n",
        "for i in range (len(support)):\n",
        "   support[i] = support[i] + 0.0025 * (random.randint(1,10) - 5) \n",
        "   confidence[i] = confidence[i] + 0.0025 * (random.randint(1,10) - 5)\n",
        " \n",
        "plt.scatter(support, confidence,   alpha=0.5, marker=\"*\")\n",
        "plt.xlabel('support')\n",
        "plt.ylabel('confidence') \n",
        "plt.show()"
      ],
      "execution_count": 53,
      "outputs": [
        {
          "output_type": "display_data",
          "data": {
            "image/png": "[encoded data removed]",
            "text/plain": [
              "<Figure size 432x288 with 1 Axes>"
            ]
          },
          "metadata": {
            "tags": []
          }
        }
      ]
    },
    {
      "cell_type": "code",
      "metadata": {
        "id": "Pw9be4RAQGzc",
        "colab_type": "code",
        "colab": {}
      },
      "source": [
        "def draw_graph(rules, rules_to_show):\n",
        "  import networkx as nx  \n",
        "  G1 = nx.DiGraph()\n",
        "   \n",
        "  color_map=[]\n",
        "  N = 50\n",
        "  colors = np.random.rand(N)    \n",
        "  strs=['R0', 'R1', 'R2', 'R3', 'R4', 'R5', 'R6', 'R7', 'R8', 'R9', 'R10', 'R11', 'R12', 'R13', 'R14', 'R15']   \n",
        "   \n",
        "   \n",
        "  for i in range (rules_to_show):      \n",
        "    G1.add_nodes_from([\"R\"+str(i)])\n",
        "    \n",
        "     \n",
        "    for a in rules.iloc[i]['antecedents']:\n",
        "                \n",
        "        G1.add_nodes_from([a])\n",
        "        \n",
        "        G1.add_edge(a, \"R\"+str(i), color=colors[i] , weight = 2)\n",
        "       \n",
        "    for c in rules.iloc[i]['consequents']:\n",
        "             \n",
        "            G1.add_nodes_from([c])\n",
        "            \n",
        "            G1.add_edge(\"R\"+str(i), c, color=colors[i],  weight=2)\n",
        " \n",
        "  for node in G1:\n",
        "       found_a_string = False\n",
        "       for item in strs: \n",
        "           if node==item:\n",
        "                found_a_string = True\n",
        "       if found_a_string:\n",
        "            color_map.append('black')\n",
        "       else:\n",
        "            color_map.append('red')\n",
        "   \n",
        "  edges = G1.edges()\n",
        "  colors = [G1[u][v]['color'] for u,v in edges]\n",
        "  weights = [G1[u][v]['weight'] for u,v in edges]\n",
        " \n",
        "  pos = nx.spring_layout(G1, k=16, scale=1)\n",
        "  nx.draw(G1, pos, edges=edges, node_color = color_map, edge_color=colors, width=weights, font_size=16, with_labels=False)            \n",
        "   \n",
        "  for p in pos:  # raise text positions\n",
        "           pos[p][1] += 0.07\n",
        "  nx.draw_networkx_labels(G1, pos)\n",
        "\n",
        "  plt.show()"
      ],
      "execution_count": 0,
      "outputs": []
    },
    {
      "cell_type": "code",
      "metadata": {
        "id": "x7lp_FIfh9fF",
        "colab_type": "code",
        "colab": {
          "base_uri": "https://localhost:8080/",
          "height": 679
        },
        "outputId": "e1ca4d96-85d8-4a3f-edd8-ecb270ca1573"
      },
      "source": [
        "draw_graph(rules,8)"
      ],
      "execution_count": 93,
      "outputs": [
        {
          "output_type": "display_data",
          "data": {
            "image/png": "[encoded data removed]",
            "text/plain": [
              "<Figure size 1152x648 with 1 Axes>"
            ]
          },
          "metadata": {
            "tags": []
          }
        }
      ]
    },
    {
      "cell_type": "code",
      "metadata": {
        "id": "kccIpaLLiFGZ",
        "colab_type": "code",
        "colab": {}
      },
      "source": [
        ""
      ],
      "execution_count": 0,
      "outputs": []
    }
  ]
}